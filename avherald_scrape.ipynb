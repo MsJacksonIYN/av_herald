{
 "cells": [
  {
   "cell_type": "code",
   "execution_count": 173,
   "metadata": {},
   "outputs": [],
   "source": [
    "import requests\n",
    "from bs4 import BeautifulSoup\n",
    "import pandas as pd\n",
    "import numpy as np\n",
    "import matplotlib.pyplot as plt\n",
    "import seaborn as sns\n",
    "%matplotlib inline"
   ]
  },
  {
   "cell_type": "code",
   "execution_count": 46,
   "metadata": {},
   "outputs": [],
   "source": [
    "import re"
   ]
  },
  {
   "cell_type": "code",
   "execution_count": 25,
   "metadata": {},
   "outputs": [],
   "source": [
    "#pull HTML from webpage and create BeautifulSoup object\n",
    "def cook_soup(url): \n",
    "    webpage = requests.get(url)\n",
    "    soup = BeautifulSoup(webpage.content, 'html.parser')\n",
    "    return soup"
   ]
  },
  {
   "cell_type": "code",
   "execution_count": 147,
   "metadata": {},
   "outputs": [],
   "source": [
    "#function intakes a headline string and parses the string based on regex.  \n",
    "#function returns a list of strings \n",
    "def single_airline_parse(headline):\n",
    "    regex = r\"([A-Za-z0-9\\s]+)\\s([A-Z0-9]{1,5})\\s(?:at|near)\\s(.+)(?:\\son\\s)([A-Za-z0-9\\s]+)(?:,\\s)(.+)\"\n",
    "    groups = re.search(regex, headline)\n",
    "    return groups"
   ]
  },
  {
   "cell_type": "code",
   "execution_count": 169,
   "metadata": {},
   "outputs": [],
   "source": [
    "#function intakes the base url for website and the number of pages user would like to scrape,\n",
    "#and outputs a list of headline dictionaries\n",
    "def create_df(initial_url,num_pages):\n",
    "    \n",
    "    url = initial_url\n",
    "    #empty list will hold each headline dictionary\n",
    "    all_headlines = []\n",
    "    \n",
    "    #code will run for each page that needs to be scraped\n",
    "    for page in range(1,num_pages+1):\n",
    "        #creating BeautifulSoup object from scraped webpage\n",
    "        soup = cook_soup(url)\n",
    "        #narrow the HTML of soup to reference only the table of headlines\n",
    "        table =  soup.findAll('span',{'class':'headline_avherald'})\n",
    "        #find \"Next\" button and get the URL path associated\n",
    "        next_page = soup.find(\"img\", {\"title\": \"Next\"}).parent.get('href')\n",
    "        \n",
    "        #code will run for each headline in the table of headlines\n",
    "        for report in table:\n",
    "            #finding the incident class\n",
    "            inc_class = report.parent.parent.parent.find('img')['title']\n",
    "            #finding the headline as a long string\n",
    "            headline = report.get_text()\n",
    "            #skip cases with two airlines or two locations listed\n",
    "            if ' and ' not in headline.partition(' on ')[0]:\n",
    "                #run regex parser\n",
    "                parsed_headline = single_airline_parse(headline)\n",
    "                #if regex parser returns some value, create a headline dictionary of parsed strings\n",
    "                if parsed_headline:\n",
    "                    hl_dict = {}\n",
    "                    hl_dict['Class'] = inc_class\n",
    "                    hl_dict['Airline'] = parsed_headline[1]\n",
    "                    hl_dict['Aircraft'] = parsed_headline[2]\n",
    "                    hl_dict['Location'] = parsed_headline[3]\n",
    "                    hl_dict['Date'] = parsed_headline[4]\n",
    "                    hl_dict['Description'] = parsed_headline[5]\n",
    "                    all_headlines.append(hl_dict)\n",
    "        #update url with the path associated with the \"Next\" button\n",
    "        url = initial_url+next_page\n",
    "        \n",
    "    return all_headlines"
   ]
  },
  {
   "cell_type": "code",
   "execution_count": 170,
   "metadata": {},
   "outputs": [],
   "source": [
    "df = create_df(\"http://avherald.com/\",10)"
   ]
  },
  {
   "cell_type": "code",
   "execution_count": 172,
   "metadata": {
    "scrolled": false
   },
   "outputs": [
    {
     "data": {
      "text/plain": [
       "451"
      ]
     },
     "execution_count": 172,
     "metadata": {},
     "output_type": "execute_result"
    }
   ],
   "source": [
    "len(df)"
   ]
  },
  {
   "cell_type": "code",
   "execution_count": 361,
   "metadata": {},
   "outputs": [
    {
     "data": {
      "text/html": [
       "<div>\n",
       "<style scoped>\n",
       "    .dataframe tbody tr th:only-of-type {\n",
       "        vertical-align: middle;\n",
       "    }\n",
       "\n",
       "    .dataframe tbody tr th {\n",
       "        vertical-align: top;\n",
       "    }\n",
       "\n",
       "    .dataframe thead th {\n",
       "        text-align: right;\n",
       "    }\n",
       "</style>\n",
       "<table border=\"1\" class=\"dataframe\">\n",
       "  <thead>\n",
       "    <tr style=\"text-align: right;\">\n",
       "      <th></th>\n",
       "      <th>Aircraft</th>\n",
       "      <th>Airline</th>\n",
       "      <th>Class</th>\n",
       "      <th>Date</th>\n",
       "      <th>Description</th>\n",
       "      <th>Location</th>\n",
       "    </tr>\n",
       "  </thead>\n",
       "  <tbody>\n",
       "    <tr>\n",
       "      <th>0</th>\n",
       "      <td>B738</td>\n",
       "      <td>Pobeda</td>\n",
       "      <td>Incident</td>\n",
       "      <td>Mar 23rd 2019</td>\n",
       "      <td>lightning strike</td>\n",
       "      <td>Sochi</td>\n",
       "    </tr>\n",
       "    <tr>\n",
       "      <th>1</th>\n",
       "      <td>B789</td>\n",
       "      <td>Aeromexico</td>\n",
       "      <td>Incident</td>\n",
       "      <td>Mar 23rd 2019</td>\n",
       "      <td>problem with cockpit oxygen</td>\n",
       "      <td>Lima</td>\n",
       "    </tr>\n",
       "    <tr>\n",
       "      <th>2</th>\n",
       "      <td>F100</td>\n",
       "      <td>Iran</td>\n",
       "      <td>Accident</td>\n",
       "      <td>Mar 19th 2019</td>\n",
       "      <td>main gear did not extend</td>\n",
       "      <td>Tehran</td>\n",
       "    </tr>\n",
       "    <tr>\n",
       "      <th>3</th>\n",
       "      <td>A332</td>\n",
       "      <td>American</td>\n",
       "      <td>Incident</td>\n",
       "      <td>Mar 22nd 2019</td>\n",
       "      <td>pack problem</td>\n",
       "      <td>Munich</td>\n",
       "    </tr>\n",
       "    <tr>\n",
       "      <th>4</th>\n",
       "      <td>B737</td>\n",
       "      <td>BoA</td>\n",
       "      <td>Incident</td>\n",
       "      <td>Mar 22nd 2019</td>\n",
       "      <td>engine shut down in flight</td>\n",
       "      <td>Cochabamba</td>\n",
       "    </tr>\n",
       "  </tbody>\n",
       "</table>\n",
       "</div>"
      ],
      "text/plain": [
       "  Aircraft     Airline     Class           Date                  Description  \\\n",
       "0     B738      Pobeda  Incident  Mar 23rd 2019             lightning strike   \n",
       "1     B789  Aeromexico  Incident  Mar 23rd 2019  problem with cockpit oxygen   \n",
       "2     F100        Iran  Accident  Mar 19th 2019     main gear did not extend   \n",
       "3     A332    American  Incident  Mar 22nd 2019                 pack problem   \n",
       "4     B737         BoA  Incident  Mar 22nd 2019   engine shut down in flight   \n",
       "\n",
       "     Location  \n",
       "0       Sochi  \n",
       "1        Lima  \n",
       "2      Tehran  \n",
       "3      Munich  \n",
       "4  Cochabamba  "
      ]
     },
     "execution_count": 361,
     "metadata": {},
     "output_type": "execute_result"
    }
   ],
   "source": [
    "incidents = pd.DataFrame(df)\n",
    "incidents.head()"
   ]
  },
  {
   "cell_type": "code",
   "execution_count": 381,
   "metadata": {},
   "outputs": [
    {
     "data": {
      "text/html": [
       "<div>\n",
       "<style scoped>\n",
       "    .dataframe tbody tr th:only-of-type {\n",
       "        vertical-align: middle;\n",
       "    }\n",
       "\n",
       "    .dataframe tbody tr th {\n",
       "        vertical-align: top;\n",
       "    }\n",
       "\n",
       "    .dataframe thead th {\n",
       "        text-align: right;\n",
       "    }\n",
       "</style>\n",
       "<table border=\"1\" class=\"dataframe\">\n",
       "  <thead>\n",
       "    <tr style=\"text-align: right;\">\n",
       "      <th></th>\n",
       "      <th>Aircraft</th>\n",
       "      <th>Airline</th>\n",
       "      <th>Class</th>\n",
       "      <th>Date</th>\n",
       "      <th>Description</th>\n",
       "      <th>Location</th>\n",
       "    </tr>\n",
       "  </thead>\n",
       "  <tbody>\n",
       "    <tr>\n",
       "      <th>count</th>\n",
       "      <td>450</td>\n",
       "      <td>450</td>\n",
       "      <td>450</td>\n",
       "      <td>450</td>\n",
       "      <td>450</td>\n",
       "      <td>450</td>\n",
       "    </tr>\n",
       "    <tr>\n",
       "      <th>unique</th>\n",
       "      <td>69</td>\n",
       "      <td>222</td>\n",
       "      <td>5</td>\n",
       "      <td>174</td>\n",
       "      <td>294</td>\n",
       "      <td>277</td>\n",
       "    </tr>\n",
       "    <tr>\n",
       "      <th>top</th>\n",
       "      <td>A320</td>\n",
       "      <td>American</td>\n",
       "      <td>Incident</td>\n",
       "      <td>Feb 25th 2019</td>\n",
       "      <td>engine shut down in flight</td>\n",
       "      <td>Amsterdam</td>\n",
       "    </tr>\n",
       "    <tr>\n",
       "      <th>freq</th>\n",
       "      <td>56</td>\n",
       "      <td>20</td>\n",
       "      <td>375</td>\n",
       "      <td>11</td>\n",
       "      <td>32</td>\n",
       "      <td>12</td>\n",
       "    </tr>\n",
       "  </tbody>\n",
       "</table>\n",
       "</div>"
      ],
      "text/plain": [
       "       Aircraft   Airline     Class           Date  \\\n",
       "count       450       450       450            450   \n",
       "unique       69       222         5            174   \n",
       "top        A320  American  Incident  Feb 25th 2019   \n",
       "freq         56        20       375             11   \n",
       "\n",
       "                       Description   Location  \n",
       "count                          450        450  \n",
       "unique                         294        277  \n",
       "top     engine shut down in flight  Amsterdam  \n",
       "freq                            32         12  "
      ]
     },
     "execution_count": 381,
     "metadata": {},
     "output_type": "execute_result"
    }
   ],
   "source": [
    "incidents.describe()"
   ]
  },
  {
   "cell_type": "code",
   "execution_count": 382,
   "metadata": {},
   "outputs": [
    {
     "name": "stdout",
     "output_type": "stream",
     "text": [
      "<class 'pandas.core.frame.DataFrame'>\n",
      "Int64Index: 450 entries, 0 to 450\n",
      "Data columns (total 6 columns):\n",
      "Aircraft       450 non-null object\n",
      "Airline        450 non-null object\n",
      "Class          450 non-null object\n",
      "Date           450 non-null object\n",
      "Description    450 non-null object\n",
      "Location       450 non-null object\n",
      "dtypes: object(6)\n",
      "memory usage: 24.6+ KB\n"
     ]
    }
   ],
   "source": [
    "incidents.info()"
   ]
  },
  {
   "cell_type": "code",
   "execution_count": 182,
   "metadata": {},
   "outputs": [
    {
     "data": {
      "text/plain": [
       "A320    57\n",
       "B738    55\n",
       "A321    21\n",
       "B763    18\n",
       "B773    18\n",
       "Name: Aircraft, dtype: int64"
      ]
     },
     "execution_count": 182,
     "metadata": {},
     "output_type": "execute_result"
    }
   ],
   "source": [
    "incidents['Aircraft'].value_counts().head(5)"
   ]
  },
  {
   "cell_type": "code",
   "execution_count": 183,
   "metadata": {},
   "outputs": [
    {
     "data": {
      "text/plain": [
       "American    20\n",
       "Canada      14\n",
       "Delta       13\n",
       "United      11\n",
       "Jazz         8\n",
       "Name: Airline, dtype: int64"
      ]
     },
     "execution_count": 183,
     "metadata": {},
     "output_type": "execute_result"
    }
   ],
   "source": [
    "incidents['Airline'].value_counts().head(5)"
   ]
  },
  {
   "cell_type": "code",
   "execution_count": 187,
   "metadata": {},
   "outputs": [],
   "source": [
    "import datetime\n",
    "import time"
   ]
  },
  {
   "cell_type": "code",
   "execution_count": 247,
   "metadata": {},
   "outputs": [],
   "source": [
    "#function intakes a date string and strips it of 'rd', 'th', 'nd', 'st' following the date number \n",
    "#ie, turns March 23rd 2019 to March 23 2019\n",
    "def convert_to_date(date):\n",
    "    if 'rd ' in date:\n",
    "        return date.replace('rd','')\n",
    "    elif 'th ' in date:\n",
    "        return date.replace('th','')\n",
    "    elif 'nd ' in date:\n",
    "        return date.replace('nd','')\n",
    "    elif 'st ' in date:\n",
    "        return date.replace('st','')"
   ]
  },
  {
   "cell_type": "code",
   "execution_count": 248,
   "metadata": {},
   "outputs": [],
   "source": [
    "incidents['Date'] = incidents['Date'].map(convert_to_date)"
   ]
  },
  {
   "cell_type": "code",
   "execution_count": 249,
   "metadata": {},
   "outputs": [],
   "source": [
    "#function intakes a date string and converts it to a datetime object\n",
    "def convert_to_datetime(date):\n",
    "    return time.strptime(date, '%b %d %Y')"
   ]
  },
  {
   "cell_type": "code",
   "execution_count": 250,
   "metadata": {},
   "outputs": [],
   "source": [
    "#creating a new column in the df for datetime object\n",
    "incidents['datetime'] = incidents['Date'].map(convert_to_datetime)"
   ]
  },
  {
   "cell_type": "code",
   "execution_count": 255,
   "metadata": {},
   "outputs": [],
   "source": [
    "#creating new column in df for year, month, and day\n",
    "incidents['Year'] = [dt.tm_year for dt in incidents['datetime']]\n",
    "incidents['Month'] = [dt.tm_mon for dt in incidents['datetime']]\n",
    "\n",
    "day_dict = {0:'Monday',1:'Tuesday',2:'Wednesday',3:'Thursday',4:'Friday',5:'Saturday',6:'Sunday'}\n",
    "incidents['Day'] = [day_dict[dt.tm_wday] for dt in incidents['datetime']]"
   ]
  },
  {
   "cell_type": "code",
   "execution_count": 348,
   "metadata": {},
   "outputs": [
    {
     "data": {
      "text/html": [
       "<div>\n",
       "<style scoped>\n",
       "    .dataframe tbody tr th:only-of-type {\n",
       "        vertical-align: middle;\n",
       "    }\n",
       "\n",
       "    .dataframe tbody tr th {\n",
       "        vertical-align: top;\n",
       "    }\n",
       "\n",
       "    .dataframe thead th {\n",
       "        text-align: right;\n",
       "    }\n",
       "</style>\n",
       "<table border=\"1\" class=\"dataframe\">\n",
       "  <thead>\n",
       "    <tr style=\"text-align: right;\">\n",
       "      <th></th>\n",
       "      <th>Aircraft</th>\n",
       "      <th>Airline</th>\n",
       "      <th>Class</th>\n",
       "      <th>Date</th>\n",
       "      <th>Description</th>\n",
       "      <th>Location</th>\n",
       "      <th>datetime</th>\n",
       "      <th>Year</th>\n",
       "      <th>Month</th>\n",
       "      <th>Day</th>\n",
       "    </tr>\n",
       "  </thead>\n",
       "  <tbody>\n",
       "    <tr>\n",
       "      <th>0</th>\n",
       "      <td>B738</td>\n",
       "      <td>Pobeda</td>\n",
       "      <td>Incident</td>\n",
       "      <td>Mar 23 2019</td>\n",
       "      <td>lightning strike</td>\n",
       "      <td>Sochi</td>\n",
       "      <td>(2019, 3, 23, 0, 0, 0, 5, 82, -1)</td>\n",
       "      <td>2019</td>\n",
       "      <td>3</td>\n",
       "      <td>Saturday</td>\n",
       "    </tr>\n",
       "    <tr>\n",
       "      <th>1</th>\n",
       "      <td>B789</td>\n",
       "      <td>Aeromexico</td>\n",
       "      <td>Incident</td>\n",
       "      <td>Mar 23 2019</td>\n",
       "      <td>problem with cockpit oxygen</td>\n",
       "      <td>Lima</td>\n",
       "      <td>(2019, 3, 23, 0, 0, 0, 5, 82, -1)</td>\n",
       "      <td>2019</td>\n",
       "      <td>3</td>\n",
       "      <td>Saturday</td>\n",
       "    </tr>\n",
       "    <tr>\n",
       "      <th>2</th>\n",
       "      <td>F100</td>\n",
       "      <td>Iran</td>\n",
       "      <td>Accident</td>\n",
       "      <td>Mar 19 2019</td>\n",
       "      <td>main gear did not extend</td>\n",
       "      <td>Tehran</td>\n",
       "      <td>(2019, 3, 19, 0, 0, 0, 1, 78, -1)</td>\n",
       "      <td>2019</td>\n",
       "      <td>3</td>\n",
       "      <td>Tuesday</td>\n",
       "    </tr>\n",
       "    <tr>\n",
       "      <th>3</th>\n",
       "      <td>A332</td>\n",
       "      <td>American</td>\n",
       "      <td>Incident</td>\n",
       "      <td>Mar 22 2019</td>\n",
       "      <td>pack problem</td>\n",
       "      <td>Munich</td>\n",
       "      <td>(2019, 3, 22, 0, 0, 0, 4, 81, -1)</td>\n",
       "      <td>2019</td>\n",
       "      <td>3</td>\n",
       "      <td>Friday</td>\n",
       "    </tr>\n",
       "    <tr>\n",
       "      <th>4</th>\n",
       "      <td>B737</td>\n",
       "      <td>BoA</td>\n",
       "      <td>Incident</td>\n",
       "      <td>Mar 22 2019</td>\n",
       "      <td>engine shut down in flight</td>\n",
       "      <td>Cochabamba</td>\n",
       "      <td>(2019, 3, 22, 0, 0, 0, 4, 81, -1)</td>\n",
       "      <td>2019</td>\n",
       "      <td>3</td>\n",
       "      <td>Friday</td>\n",
       "    </tr>\n",
       "    <tr>\n",
       "      <th>5</th>\n",
       "      <td>A333</td>\n",
       "      <td>Cathay Pacific</td>\n",
       "      <td>Incident</td>\n",
       "      <td>Mar 22 2019</td>\n",
       "      <td>hydraulic failure</td>\n",
       "      <td>Jakarta</td>\n",
       "      <td>(2019, 3, 22, 0, 0, 0, 4, 81, -1)</td>\n",
       "      <td>2019</td>\n",
       "      <td>3</td>\n",
       "      <td>Friday</td>\n",
       "    </tr>\n",
       "    <tr>\n",
       "      <th>6</th>\n",
       "      <td>B773</td>\n",
       "      <td>PIA</td>\n",
       "      <td>Incident</td>\n",
       "      <td>Mar 22 2019</td>\n",
       "      <td>bird strike penetrates leading edge of wing</td>\n",
       "      <td>Lahore</td>\n",
       "      <td>(2019, 3, 22, 0, 0, 0, 4, 81, -1)</td>\n",
       "      <td>2019</td>\n",
       "      <td>3</td>\n",
       "      <td>Friday</td>\n",
       "    </tr>\n",
       "    <tr>\n",
       "      <th>7</th>\n",
       "      <td>A320</td>\n",
       "      <td>United</td>\n",
       "      <td>Incident</td>\n",
       "      <td>Mar 16 2019</td>\n",
       "      <td>duck!</td>\n",
       "      <td>Vancouver</td>\n",
       "      <td>(2019, 3, 16, 0, 0, 0, 5, 75, -1)</td>\n",
       "      <td>2019</td>\n",
       "      <td>3</td>\n",
       "      <td>Saturday</td>\n",
       "    </tr>\n",
       "    <tr>\n",
       "      <th>8</th>\n",
       "      <td>B737</td>\n",
       "      <td>Southwest</td>\n",
       "      <td>Incident</td>\n",
       "      <td>Mar 21 2019</td>\n",
       "      <td>flock of birds on short final</td>\n",
       "      <td>Houston</td>\n",
       "      <td>(2019, 3, 21, 0, 0, 0, 3, 80, -1)</td>\n",
       "      <td>2019</td>\n",
       "      <td>3</td>\n",
       "      <td>Thursday</td>\n",
       "    </tr>\n",
       "    <tr>\n",
       "      <th>9</th>\n",
       "      <td>A320</td>\n",
       "      <td>Jetstar</td>\n",
       "      <td>Report</td>\n",
       "      <td>Sep 20 2018</td>\n",
       "      <td>thrust reversers did not deploy</td>\n",
       "      <td>Sydney</td>\n",
       "      <td>(2018, 9, 20, 0, 0, 0, 3, 263, -1)</td>\n",
       "      <td>2018</td>\n",
       "      <td>9</td>\n",
       "      <td>Thursday</td>\n",
       "    </tr>\n",
       "    <tr>\n",
       "      <th>10</th>\n",
       "      <td>E145</td>\n",
       "      <td>Commutair</td>\n",
       "      <td>Accident</td>\n",
       "      <td>Mar 4 2019</td>\n",
       "      <td>runway excursion, hard landing and gear collapse</td>\n",
       "      <td>Presque Isle</td>\n",
       "      <td>(2019, 3, 4, 0, 0, 0, 0, 63, -1)</td>\n",
       "      <td>2019</td>\n",
       "      <td>3</td>\n",
       "      <td>Monday</td>\n",
       "    </tr>\n",
       "    <tr>\n",
       "      <th>11</th>\n",
       "      <td>A319</td>\n",
       "      <td>Spirit</td>\n",
       "      <td>Accident</td>\n",
       "      <td>Feb 27 2019</td>\n",
       "      <td>smoke in cockpit</td>\n",
       "      <td>Las Vegas</td>\n",
       "      <td>(2019, 2, 27, 0, 0, 0, 2, 58, -1)</td>\n",
       "      <td>2019</td>\n",
       "      <td>2</td>\n",
       "      <td>Wednesday</td>\n",
       "    </tr>\n",
       "    <tr>\n",
       "      <th>12</th>\n",
       "      <td>B38M</td>\n",
       "      <td>Lion</td>\n",
       "      <td>Crash</td>\n",
       "      <td>Oct 29 2018</td>\n",
       "      <td>aircraft lost height and crashed into Java Sea...</td>\n",
       "      <td>Jakarta</td>\n",
       "      <td>(2018, 10, 29, 0, 0, 0, 0, 302, -1)</td>\n",
       "      <td>2018</td>\n",
       "      <td>10</td>\n",
       "      <td>Monday</td>\n",
       "    </tr>\n",
       "    <tr>\n",
       "      <th>13</th>\n",
       "      <td>B38M</td>\n",
       "      <td>Ethiopian</td>\n",
       "      <td>Crash</td>\n",
       "      <td>Mar 10 2019</td>\n",
       "      <td>impacted terrain after departure</td>\n",
       "      <td>Bishoftu</td>\n",
       "      <td>(2019, 3, 10, 0, 0, 0, 6, 69, -1)</td>\n",
       "      <td>2019</td>\n",
       "      <td>3</td>\n",
       "      <td>Sunday</td>\n",
       "    </tr>\n",
       "    <tr>\n",
       "      <th>14</th>\n",
       "      <td>E135</td>\n",
       "      <td>Envoy</td>\n",
       "      <td>Incident</td>\n",
       "      <td>Mar 18 2019</td>\n",
       "      <td>smoke on board</td>\n",
       "      <td>Mc Allen</td>\n",
       "      <td>(2019, 3, 18, 0, 0, 0, 0, 77, -1)</td>\n",
       "      <td>2019</td>\n",
       "      <td>3</td>\n",
       "      <td>Monday</td>\n",
       "    </tr>\n",
       "    <tr>\n",
       "      <th>15</th>\n",
       "      <td>E190</td>\n",
       "      <td>Jetblue</td>\n",
       "      <td>Incident</td>\n",
       "      <td>Mar 19 2019</td>\n",
       "      <td>bird strike</td>\n",
       "      <td>Boston</td>\n",
       "      <td>(2019, 3, 19, 0, 0, 0, 1, 78, -1)</td>\n",
       "      <td>2019</td>\n",
       "      <td>3</td>\n",
       "      <td>Tuesday</td>\n",
       "    </tr>\n",
       "    <tr>\n",
       "      <th>16</th>\n",
       "      <td>E190</td>\n",
       "      <td>Austral</td>\n",
       "      <td>Incident</td>\n",
       "      <td>Mar 20 2018</td>\n",
       "      <td>smoke in cabin</td>\n",
       "      <td>Posadas</td>\n",
       "      <td>(2018, 3, 20, 0, 0, 0, 1, 79, -1)</td>\n",
       "      <td>2018</td>\n",
       "      <td>3</td>\n",
       "      <td>Tuesday</td>\n",
       "    </tr>\n",
       "    <tr>\n",
       "      <th>17</th>\n",
       "      <td>B773</td>\n",
       "      <td>THY</td>\n",
       "      <td>Accident</td>\n",
       "      <td>Mar 9 2019</td>\n",
       "      <td>turbulence injures 29 people on board</td>\n",
       "      <td>Boston</td>\n",
       "      <td>(2019, 3, 9, 0, 0, 0, 5, 68, -1)</td>\n",
       "      <td>2019</td>\n",
       "      <td>3</td>\n",
       "      <td>Saturday</td>\n",
       "    </tr>\n",
       "    <tr>\n",
       "      <th>18</th>\n",
       "      <td>B773</td>\n",
       "      <td>KLM</td>\n",
       "      <td>Incident</td>\n",
       "      <td>Mar 19 2019</td>\n",
       "      <td>engine oil problem</td>\n",
       "      <td>Shannon</td>\n",
       "      <td>(2019, 3, 19, 0, 0, 0, 1, 78, -1)</td>\n",
       "      <td>2019</td>\n",
       "      <td>3</td>\n",
       "      <td>Tuesday</td>\n",
       "    </tr>\n",
       "    <tr>\n",
       "      <th>19</th>\n",
       "      <td>CRJ9</td>\n",
       "      <td>Lufthansa Cityline</td>\n",
       "      <td>Incident</td>\n",
       "      <td>Mar 17 2019</td>\n",
       "      <td>gear disagree after departure</td>\n",
       "      <td>Munich</td>\n",
       "      <td>(2019, 3, 17, 0, 0, 0, 6, 76, -1)</td>\n",
       "      <td>2019</td>\n",
       "      <td>3</td>\n",
       "      <td>Sunday</td>\n",
       "    </tr>\n",
       "  </tbody>\n",
       "</table>\n",
       "</div>"
      ],
      "text/plain": [
       "   Aircraft             Airline     Class         Date  \\\n",
       "0      B738              Pobeda  Incident  Mar 23 2019   \n",
       "1      B789          Aeromexico  Incident  Mar 23 2019   \n",
       "2      F100                Iran  Accident  Mar 19 2019   \n",
       "3      A332            American  Incident  Mar 22 2019   \n",
       "4      B737                 BoA  Incident  Mar 22 2019   \n",
       "5      A333      Cathay Pacific  Incident  Mar 22 2019   \n",
       "6      B773                 PIA  Incident  Mar 22 2019   \n",
       "7      A320              United  Incident  Mar 16 2019   \n",
       "8      B737           Southwest  Incident  Mar 21 2019   \n",
       "9      A320             Jetstar    Report  Sep 20 2018   \n",
       "10     E145           Commutair  Accident   Mar 4 2019   \n",
       "11     A319              Spirit  Accident  Feb 27 2019   \n",
       "12     B38M                Lion     Crash  Oct 29 2018   \n",
       "13     B38M           Ethiopian     Crash  Mar 10 2019   \n",
       "14     E135               Envoy  Incident  Mar 18 2019   \n",
       "15     E190             Jetblue  Incident  Mar 19 2019   \n",
       "16     E190             Austral  Incident  Mar 20 2018   \n",
       "17     B773                 THY  Accident   Mar 9 2019   \n",
       "18     B773                 KLM  Incident  Mar 19 2019   \n",
       "19     CRJ9  Lufthansa Cityline  Incident  Mar 17 2019   \n",
       "\n",
       "                                          Description      Location  \\\n",
       "0                                    lightning strike         Sochi   \n",
       "1                         problem with cockpit oxygen          Lima   \n",
       "2                            main gear did not extend        Tehran   \n",
       "3                                        pack problem        Munich   \n",
       "4                          engine shut down in flight    Cochabamba   \n",
       "5                                   hydraulic failure       Jakarta   \n",
       "6         bird strike penetrates leading edge of wing        Lahore   \n",
       "7                                               duck!     Vancouver   \n",
       "8                       flock of birds on short final       Houston   \n",
       "9                     thrust reversers did not deploy        Sydney   \n",
       "10   runway excursion, hard landing and gear collapse  Presque Isle   \n",
       "11                                   smoke in cockpit     Las Vegas   \n",
       "12  aircraft lost height and crashed into Java Sea...       Jakarta   \n",
       "13                   impacted terrain after departure      Bishoftu   \n",
       "14                                     smoke on board      Mc Allen   \n",
       "15                                        bird strike        Boston   \n",
       "16                                     smoke in cabin       Posadas   \n",
       "17              turbulence injures 29 people on board        Boston   \n",
       "18                                 engine oil problem       Shannon   \n",
       "19                      gear disagree after departure        Munich   \n",
       "\n",
       "                               datetime  Year  Month        Day  \n",
       "0     (2019, 3, 23, 0, 0, 0, 5, 82, -1)  2019      3   Saturday  \n",
       "1     (2019, 3, 23, 0, 0, 0, 5, 82, -1)  2019      3   Saturday  \n",
       "2     (2019, 3, 19, 0, 0, 0, 1, 78, -1)  2019      3    Tuesday  \n",
       "3     (2019, 3, 22, 0, 0, 0, 4, 81, -1)  2019      3     Friday  \n",
       "4     (2019, 3, 22, 0, 0, 0, 4, 81, -1)  2019      3     Friday  \n",
       "5     (2019, 3, 22, 0, 0, 0, 4, 81, -1)  2019      3     Friday  \n",
       "6     (2019, 3, 22, 0, 0, 0, 4, 81, -1)  2019      3     Friday  \n",
       "7     (2019, 3, 16, 0, 0, 0, 5, 75, -1)  2019      3   Saturday  \n",
       "8     (2019, 3, 21, 0, 0, 0, 3, 80, -1)  2019      3   Thursday  \n",
       "9    (2018, 9, 20, 0, 0, 0, 3, 263, -1)  2018      9   Thursday  \n",
       "10     (2019, 3, 4, 0, 0, 0, 0, 63, -1)  2019      3     Monday  \n",
       "11    (2019, 2, 27, 0, 0, 0, 2, 58, -1)  2019      2  Wednesday  \n",
       "12  (2018, 10, 29, 0, 0, 0, 0, 302, -1)  2018     10     Monday  \n",
       "13    (2019, 3, 10, 0, 0, 0, 6, 69, -1)  2019      3     Sunday  \n",
       "14    (2019, 3, 18, 0, 0, 0, 0, 77, -1)  2019      3     Monday  \n",
       "15    (2019, 3, 19, 0, 0, 0, 1, 78, -1)  2019      3    Tuesday  \n",
       "16    (2018, 3, 20, 0, 0, 0, 1, 79, -1)  2018      3    Tuesday  \n",
       "17     (2019, 3, 9, 0, 0, 0, 5, 68, -1)  2019      3   Saturday  \n",
       "18    (2019, 3, 19, 0, 0, 0, 1, 78, -1)  2019      3    Tuesday  \n",
       "19    (2019, 3, 17, 0, 0, 0, 6, 76, -1)  2019      3     Sunday  "
      ]
     },
     "execution_count": 348,
     "metadata": {},
     "output_type": "execute_result"
    }
   ],
   "source": [
    "incidents.head(20)"
   ]
  },
  {
   "cell_type": "code",
   "execution_count": 378,
   "metadata": {},
   "outputs": [
    {
     "name": "stdout",
     "output_type": "stream",
     "text": [
      "<class 'pandas.core.frame.DataFrame'>\n",
      "Int64Index: 450 entries, 0 to 450\n",
      "Data columns (total 10 columns):\n",
      "Aircraft       450 non-null object\n",
      "Airline        450 non-null object\n",
      "Class          450 non-null object\n",
      "Date           450 non-null object\n",
      "Description    450 non-null object\n",
      "Location       450 non-null object\n",
      "datetime       450 non-null object\n",
      "Year           450 non-null int64\n",
      "Month          450 non-null int64\n",
      "Day            450 non-null object\n",
      "dtypes: int64(2), object(8)\n",
      "memory usage: 58.7+ KB\n"
     ]
    }
   ],
   "source": [
    "incidents.info()"
   ]
  },
  {
   "cell_type": "code",
   "execution_count": 433,
   "metadata": {},
   "outputs": [
    {
     "data": {
      "text/plain": [
       "Text(0.5, 1.0, 'Headline Classification')"
      ]
     },
     "execution_count": 433,
     "metadata": {},
     "output_type": "execute_result"
    },
    {
     "data": {
      "image/png": "[encoded data removed]",
      "text/plain": [
       "<Figure size 576x576 with 1 Axes>"
      ]
     },
     "metadata": {},
     "output_type": "display_data"
    }
   ],
   "source": [
    "plt.figure(figsize=(8,8))\n",
    "plt.pie(incidents['Class'].value_counts(),labels = incidents['Class'].unique(),autopct='%1.1f%%',colors = ['#ff9999','#66b3ff','#99ff99','#ffcc99','plum'],\n",
    "textprops={'fontsize': 14})\n",
    "plt.title('Headline Classification',{'fontsize': 20,'verticalalignment': 'center'})\n"
   ]
  },
  {
   "cell_type": "code",
   "execution_count": 391,
   "metadata": {},
   "outputs": [
    {
     "data": {
      "text/plain": [
       "Text(0.5, 1.0, 'Headlines per Airline')"
      ]
     },
     "execution_count": 391,
     "metadata": {},
     "output_type": "execute_result"
    },
    {
     "data": {
      "image/png": "[encoded data removed]",
      "text/plain": [
       "<Figure size 864x576 with 1 Axes>"
      ]
     },
     "metadata": {},
     "output_type": "display_data"
    }
   ],
   "source": [
    "plt.figure(figsize = (12,8))\n",
    "plt.hist(incidents['Airline'].value_counts())\n",
    "plt.ylabel('Number of Airlines')\n",
    "plt.xlabel('Number of Headlines')\n",
    "plt.title('Headlines per Airline',fontsize=20)"
   ]
  },
  {
   "cell_type": "code",
   "execution_count": 393,
   "metadata": {},
   "outputs": [
    {
     "data": {
      "text/plain": [
       "American    20\n",
       "Canada      14\n",
       "Delta       13\n",
       "United      11\n",
       "Jazz         8\n",
       "Name: Airline, dtype: int64"
      ]
     },
     "execution_count": 393,
     "metadata": {},
     "output_type": "execute_result"
    }
   ],
   "source": [
    "incidents['Airline'].value_counts().head(5)"
   ]
  },
  {
   "cell_type": "code",
   "execution_count": 407,
   "metadata": {},
   "outputs": [
    {
     "data": {
      "text/plain": [
       "Text(0.5, 1.0, 'Headlines per Aircraft')"
      ]
     },
     "execution_count": 407,
     "metadata": {},
     "output_type": "execute_result"
    },
    {
     "data": {
      "image/png": "[encoded data removed]",
      "text/plain": [
       "<Figure size 864x576 with 1 Axes>"
      ]
     },
     "metadata": {},
     "output_type": "display_data"
    }
   ],
   "source": [
    "plt.figure(figsize = (12,8))\n",
    "plt.hist(incidents['Aircraft'].value_counts(),color='teal',bins=list(range(0,60,5)))\n",
    "plt.ylabel('Number of Aircraft')\n",
    "plt.xlabel('Number of Headlines')\n",
    "plt.title('Headlines per Aircraft',fontsize=20)"
   ]
  },
  {
   "cell_type": "code",
   "execution_count": 400,
   "metadata": {},
   "outputs": [
    {
     "data": {
      "text/plain": [
       "A320    56\n",
       "B738    55\n",
       "A321    21\n",
       "B763    18\n",
       "B773    18\n",
       "Name: Aircraft, dtype: int64"
      ]
     },
     "execution_count": 400,
     "metadata": {},
     "output_type": "execute_result"
    }
   ],
   "source": [
    "incidents['Aircraft'].value_counts().head(5)"
   ]
  },
  {
   "cell_type": "code",
   "execution_count": 319,
   "metadata": {},
   "outputs": [],
   "source": [
    "from os import path\n",
    "from PIL import Image\n",
    "from wordcloud import WordCloud, STOPWORDS, ImageColorGenerator\n"
   ]
  },
  {
   "cell_type": "code",
   "execution_count": 347,
   "metadata": {},
   "outputs": [
    {
     "name": "stdout",
     "output_type": "stream",
     "text": [
      "There are 12301 words in the combination of all review.\n"
     ]
    }
   ],
   "source": [
    "text = \" \".join(descr for descr in incidents['Description'])\n",
    "print (\"There are {} words in the combination of all review.\".format(len(text)))"
   ]
  },
  {
   "cell_type": "code",
   "execution_count": 357,
   "metadata": {},
   "outputs": [],
   "source": [
    "stopwords = set(STOPWORDS)\n",
    "stopwords.update([\"problem\", \"failure\",\"problems\",\"shut down\",\"flight\"])"
   ]
  },
  {
   "cell_type": "code",
   "execution_count": 358,
   "metadata": {},
   "outputs": [
    {
     "data": {
      "image/png": "[encoded data removed]",
      "text/plain": [
       "<Figure size 432x288 with 1 Axes>"
      ]
     },
     "metadata": {},
     "output_type": "display_data"
    }
   ],
   "source": [
    "# Create and generate a word cloud image:\n",
    "wordcloud = WordCloud(stopwords=stopwords,max_words=100,background_color='white').generate(text)\n",
    "\n",
    "# Display the generated image:\n",
    "plt.imshow(wordcloud, interpolation='bilinear')\n",
    "plt.axis(\"off\")\n",
    "plt.show()"
   ]
  },
  {
   "cell_type": "code",
   "execution_count": 359,
   "metadata": {},
   "outputs": [
    {
     "data": {
      "text/plain": [
       "<wordcloud.wordcloud.WordCloud at 0x1a330f2b70>"
      ]
     },
     "execution_count": 359,
     "metadata": {},
     "output_type": "execute_result"
    }
   ],
   "source": [
    "wordcloud.to_file(\"all_descriptions_better.png\")"
   ]
  },
  {
   "cell_type": "code",
   "execution_count": 410,
   "metadata": {},
   "outputs": [
    {
     "data": {
      "text/html": [
       "<div>\n",
       "<style scoped>\n",
       "    .dataframe tbody tr th:only-of-type {\n",
       "        vertical-align: middle;\n",
       "    }\n",
       "\n",
       "    .dataframe tbody tr th {\n",
       "        vertical-align: top;\n",
       "    }\n",
       "\n",
       "    .dataframe thead th {\n",
       "        text-align: right;\n",
       "    }\n",
       "</style>\n",
       "<table border=\"1\" class=\"dataframe\">\n",
       "  <thead>\n",
       "    <tr style=\"text-align: right;\">\n",
       "      <th></th>\n",
       "      <th>Aircraft</th>\n",
       "      <th>Airline</th>\n",
       "      <th>Class</th>\n",
       "      <th>Date</th>\n",
       "      <th>Description</th>\n",
       "      <th>Location</th>\n",
       "      <th>datetime</th>\n",
       "      <th>Year</th>\n",
       "      <th>Month</th>\n",
       "      <th>Day</th>\n",
       "    </tr>\n",
       "  </thead>\n",
       "  <tbody>\n",
       "    <tr>\n",
       "      <th>12</th>\n",
       "      <td>B38M</td>\n",
       "      <td>Lion</td>\n",
       "      <td>Crash</td>\n",
       "      <td>Oct 29 2018</td>\n",
       "      <td>aircraft lost height and crashed into Java Sea...</td>\n",
       "      <td>Jakarta</td>\n",
       "      <td>(2018, 10, 29, 0, 0, 0, 0, 302, -1)</td>\n",
       "      <td>2018</td>\n",
       "      <td>10</td>\n",
       "      <td>Monday</td>\n",
       "    </tr>\n",
       "    <tr>\n",
       "      <th>13</th>\n",
       "      <td>B38M</td>\n",
       "      <td>Ethiopian</td>\n",
       "      <td>Crash</td>\n",
       "      <td>Mar 10 2019</td>\n",
       "      <td>impacted terrain after departure</td>\n",
       "      <td>Bishoftu</td>\n",
       "      <td>(2019, 3, 10, 0, 0, 0, 6, 69, -1)</td>\n",
       "      <td>2019</td>\n",
       "      <td>3</td>\n",
       "      <td>Sunday</td>\n",
       "    </tr>\n",
       "    <tr>\n",
       "      <th>122</th>\n",
       "      <td>B38M</td>\n",
       "      <td>Norwegian</td>\n",
       "      <td>Incident</td>\n",
       "      <td>Dec 14 2018</td>\n",
       "      <td>engine shut down in flight</td>\n",
       "      <td>Shiraz</td>\n",
       "      <td>(2018, 12, 14, 0, 0, 0, 4, 348, -1)</td>\n",
       "      <td>2018</td>\n",
       "      <td>12</td>\n",
       "      <td>Friday</td>\n",
       "    </tr>\n",
       "    <tr>\n",
       "      <th>173</th>\n",
       "      <td>B38M</td>\n",
       "      <td>American</td>\n",
       "      <td>Incident</td>\n",
       "      <td>Feb 12 2019</td>\n",
       "      <td>hydraulic failure</td>\n",
       "      <td>San Juan</td>\n",
       "      <td>(2019, 2, 12, 0, 0, 0, 1, 43, -1)</td>\n",
       "      <td>2019</td>\n",
       "      <td>2</td>\n",
       "      <td>Tuesday</td>\n",
       "    </tr>\n",
       "    <tr>\n",
       "      <th>220</th>\n",
       "      <td>B38M</td>\n",
       "      <td>TUI</td>\n",
       "      <td>Incident</td>\n",
       "      <td>Jan 29 2019</td>\n",
       "      <td>engine problem</td>\n",
       "      <td>Chania</td>\n",
       "      <td>(2019, 1, 29, 0, 0, 0, 1, 29, -1)</td>\n",
       "      <td>2019</td>\n",
       "      <td>1</td>\n",
       "      <td>Tuesday</td>\n",
       "    </tr>\n",
       "    <tr>\n",
       "      <th>230</th>\n",
       "      <td>B38M</td>\n",
       "      <td>Argentinas</td>\n",
       "      <td>Incident</td>\n",
       "      <td>Dec 14 2018</td>\n",
       "      <td>engine vibrations as result of weather</td>\n",
       "      <td>Cordoba</td>\n",
       "      <td>(2018, 12, 14, 0, 0, 0, 4, 348, -1)</td>\n",
       "      <td>2018</td>\n",
       "      <td>12</td>\n",
       "      <td>Friday</td>\n",
       "    </tr>\n",
       "    <tr>\n",
       "      <th>251</th>\n",
       "      <td>B38M</td>\n",
       "      <td>Canada</td>\n",
       "      <td>Incident</td>\n",
       "      <td>Jan 13 2019</td>\n",
       "      <td>rejected takeoff due to door indication</td>\n",
       "      <td>Palm Springs</td>\n",
       "      <td>(2019, 1, 13, 0, 0, 0, 6, 13, -1)</td>\n",
       "      <td>2019</td>\n",
       "      <td>1</td>\n",
       "      <td>Sunday</td>\n",
       "    </tr>\n",
       "    <tr>\n",
       "      <th>261</th>\n",
       "      <td>B38M</td>\n",
       "      <td>Norwegian</td>\n",
       "      <td>Incident</td>\n",
       "      <td>Jan 18 2019</td>\n",
       "      <td>touched down despite go around instruction</td>\n",
       "      <td>Helsinki</td>\n",
       "      <td>(2019, 1, 18, 0, 0, 0, 4, 18, -1)</td>\n",
       "      <td>2019</td>\n",
       "      <td>1</td>\n",
       "      <td>Friday</td>\n",
       "    </tr>\n",
       "    <tr>\n",
       "      <th>288</th>\n",
       "      <td>B38M</td>\n",
       "      <td>Canada</td>\n",
       "      <td>Incident</td>\n",
       "      <td>Dec 29 2018</td>\n",
       "      <td>failure of wing anti-ice</td>\n",
       "      <td>Vancouver</td>\n",
       "      <td>(2018, 12, 29, 0, 0, 0, 5, 363, -1)</td>\n",
       "      <td>2018</td>\n",
       "      <td>12</td>\n",
       "      <td>Saturday</td>\n",
       "    </tr>\n",
       "    <tr>\n",
       "      <th>333</th>\n",
       "      <td>B38M</td>\n",
       "      <td>Spicejet</td>\n",
       "      <td>Incident</td>\n",
       "      <td>Jan 6 2019</td>\n",
       "      <td>engine shut down in flight</td>\n",
       "      <td>Varanasi</td>\n",
       "      <td>(2019, 1, 6, 0, 0, 0, 6, 6, -1)</td>\n",
       "      <td>2019</td>\n",
       "      <td>1</td>\n",
       "      <td>Sunday</td>\n",
       "    </tr>\n",
       "  </tbody>\n",
       "</table>\n",
       "</div>"
      ],
      "text/plain": [
       "    Aircraft     Airline     Class         Date  \\\n",
       "12      B38M        Lion     Crash  Oct 29 2018   \n",
       "13      B38M   Ethiopian     Crash  Mar 10 2019   \n",
       "122     B38M   Norwegian  Incident  Dec 14 2018   \n",
       "173     B38M    American  Incident  Feb 12 2019   \n",
       "220     B38M         TUI  Incident  Jan 29 2019   \n",
       "230     B38M  Argentinas  Incident  Dec 14 2018   \n",
       "251     B38M      Canada  Incident  Jan 13 2019   \n",
       "261     B38M   Norwegian  Incident  Jan 18 2019   \n",
       "288     B38M      Canada  Incident  Dec 29 2018   \n",
       "333     B38M    Spicejet  Incident   Jan 6 2019   \n",
       "\n",
       "                                           Description      Location  \\\n",
       "12   aircraft lost height and crashed into Java Sea...       Jakarta   \n",
       "13                    impacted terrain after departure      Bishoftu   \n",
       "122                         engine shut down in flight        Shiraz   \n",
       "173                                  hydraulic failure      San Juan   \n",
       "220                                     engine problem        Chania   \n",
       "230             engine vibrations as result of weather       Cordoba   \n",
       "251            rejected takeoff due to door indication  Palm Springs   \n",
       "261         touched down despite go around instruction      Helsinki   \n",
       "288                           failure of wing anti-ice     Vancouver   \n",
       "333                         engine shut down in flight      Varanasi   \n",
       "\n",
       "                                datetime  Year  Month       Day  \n",
       "12   (2018, 10, 29, 0, 0, 0, 0, 302, -1)  2018     10    Monday  \n",
       "13     (2019, 3, 10, 0, 0, 0, 6, 69, -1)  2019      3    Sunday  \n",
       "122  (2018, 12, 14, 0, 0, 0, 4, 348, -1)  2018     12    Friday  \n",
       "173    (2019, 2, 12, 0, 0, 0, 1, 43, -1)  2019      2   Tuesday  \n",
       "220    (2019, 1, 29, 0, 0, 0, 1, 29, -1)  2019      1   Tuesday  \n",
       "230  (2018, 12, 14, 0, 0, 0, 4, 348, -1)  2018     12    Friday  \n",
       "251    (2019, 1, 13, 0, 0, 0, 6, 13, -1)  2019      1    Sunday  \n",
       "261    (2019, 1, 18, 0, 0, 0, 4, 18, -1)  2019      1    Friday  \n",
       "288  (2018, 12, 29, 0, 0, 0, 5, 363, -1)  2018     12  Saturday  \n",
       "333      (2019, 1, 6, 0, 0, 0, 6, 6, -1)  2019      1    Sunday  "
      ]
     },
     "execution_count": 410,
     "metadata": {},
     "output_type": "execute_result"
    }
   ],
   "source": [
    "incidents.query('Aircraft == \"B38M\"')"
   ]
  },
  {
   "cell_type": "code",
   "execution_count": 425,
   "metadata": {},
   "outputs": [
    {
     "name": "stderr",
     "output_type": "stream",
     "text": [
      "/Users/samantha/anaconda3/lib/python3.7/site-packages/pandas/plotting/_core.py:185: UserWarning: 'colors' is being deprecated. Please use 'color'instead of 'colors'\n",
      "  warnings.warn((\"'colors' is being deprecated. Please use 'color'\"\n"
     ]
    },
    {
     "data": {
      "image/png": "[encoded data removed]",
      "text/plain": [
       "<Figure size 864x576 with 1 Axes>"
      ]
     },
     "metadata": {},
     "output_type": "display_data"
    }
   ],
   "source": [
    "plt.figure(figsize=(12,8))\n",
    "incidents['Day'].value_counts().plot.bar(colors=['navy','blue','darkorchid','mediumpurple','m','palevioletred','plum'])\n",
    "plt.xticks(rotation=50)\n",
    "plt.ylabel(\"Number of Reports\")\n",
    "plt.title('Number of Reports by Day of the Week', fontsize=20)\n",
    "plt.show()"
   ]
  },
  {
   "cell_type": "code",
   "execution_count": null,
   "metadata": {},
   "outputs": [],
   "source": []
  }
 ],
 "metadata": {
  "kernelspec": {
   "display_name": "Python 3",
   "language": "python",
   "name": "python3"
  },
  "language_info": {
   "codemirror_mode": {
    "name": "ipython",
    "version": 3
   },
   "file_extension": ".py",
   "mimetype": "text/x-python",
   "name": "python",
   "nbconvert_exporter": "python",
   "pygments_lexer": "ipython3",
   "version": "3.7.2"
  }
 },
 "nbformat": 4,
 "nbformat_minor": 2
}
